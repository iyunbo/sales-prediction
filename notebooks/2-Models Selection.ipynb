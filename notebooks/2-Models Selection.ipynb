{
 "cells": [
  {
   "cell_type": "markdown",
   "metadata": {},
   "source": [
    "### 實現\n",
    "執行run_models.py脚本，建立三個模型：綫性回歸，隨機森林和XGBoost。通過測量RMSPE比較性能。"
   ]
  },
  {
   "cell_type": "code",
   "execution_count": 1,
   "metadata": {},
   "outputs": [
    {
     "name": "stdout",
     "output_type": "stream",
     "text": [
      "3.6.4 |Anaconda, Inc.| (default, Jan 16 2018, 18:10:19) \n",
      "[GCC 7.2.0]\n"
     ]
    }
   ],
   "source": [
    "import sys\n",
    "print(sys.version)"
   ]
  },
  {
   "cell_type": "code",
   "execution_count": 2,
   "metadata": {},
   "outputs": [
    {
     "name": "stdout",
     "output_type": "stream",
     "text": [
      "data loaded: (1058297, 11)\n",
      "store loaded: (1115, 10)\n",
      "extract_sales_feat: done\n",
      "extract_recent_data: done\n",
      "extract_store_feat: done\n",
      "construct feature matrix: done\n",
      "selected_features: done\n",
      "process_missing: done\n",
      "process_outliers: done\n",
      "all features: ['StateHoliday', 'DayOfWeek', 'DayOfYear', 'Year', 'DayOfMonth', 'StoreType', 'AvgSales', 'Week', 'CompetitionOpenSince', 'SchoolHoliday', 'AvgCustomers', 'Promo', 'CompetitionDistance', 'Assortment', 'Month', 'DateInt', 'AvgCustomersWeek', 'AvgSales3Months', 'AvgCustomersMonth', 'AvgSalesWeek', 'AvgCustomers3Months', 'Promo2', 'AvgSalesMonth']\n",
      "target: SalesLog\n",
      "feature matrix dimension: (1058243, 28)\n",
      "LinearRegression RMSPE = 0.5568138177417078\n",
      "RandomForestRegressor RMSPE =  0.1612828649538131\n",
      "XGBoost RMSPE = 0.19333289695710368\n"
     ]
    }
   ],
   "source": [
    "%run -i '../scripts/run_models.py'"
   ]
  }
 ],
 "metadata": {
  "kernelspec": {
   "display_name": "Python 3",
   "language": "python",
   "name": "python3"
  },
  "language_info": {
   "codemirror_mode": {
    "name": "ipython",
    "version": 3
   },
   "file_extension": ".py",
   "mimetype": "text/x-python",
   "name": "python",
   "nbconvert_exporter": "python",
   "pygments_lexer": "ipython3",
   "version": "3.6.4"
  }
 },
 "nbformat": 4,
 "nbformat_minor": 2
}
